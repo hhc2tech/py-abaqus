{
 "cells": [
  {
   "cell_type": "code",
   "execution_count": 1,
   "metadata": {},
   "outputs": [],
   "source": [
    "\"\"\"\n",
    "Process data of pore-pressure\n",
    "\"\"\"\n",
    "import matplotlib.pyplot as plt\n",
    "plt.rcParams['font.sans-serif']=['SimHei'] #用来正常显示中文标签\n",
    "plt.rcParams['font.family']='sans-serif' #用来正常显示中文标签\n",
    "plt.rcParams['axes.unicode_minus']=False #用来正常显示负号\n",
    "import numpy as np\n",
    "import pandas as pd"
   ]
  },
  {
   "cell_type": "code",
   "execution_count": 2,
   "metadata": {},
   "outputs": [],
   "source": [
    "def read_data(path: str)->list:\n",
    "    '''\n",
    "    Read data from file\n",
    "    :param path: \n",
    "    :return: A list like obj\n",
    "    '''\n",
    "    res = list()\n",
    "    with open(path, 'r') as f:\n",
    "        for line in f:\n",
    "            line = float(line.strip())\n",
    "            res.append(line)\n",
    "    return res"
   ]
  },
  {
   "cell_type": "code",
   "execution_count": 3,
   "metadata": {},
   "outputs": [],
   "source": [
    "def remove_duplicate_merge_pair(x: list, y: list):\n",
    "    '''\n",
    "    Remove invalid y point(0) and merge x and y into pair\n",
    "    :param x: x data\n",
    "    :param y: y data\n",
    "    :return: list of tuple\n",
    "    '''\n",
    "    res = [(time, pore) for time, pore in zip(x, y) if pore > float(0)]\n",
    "    X = [item[0] for item in res]\n",
    "    Y = [item[1] for item in res]\n",
    "    return X, Y"
   ]
  },
  {
   "cell_type": "code",
   "execution_count": 4,
   "metadata": {},
   "outputs": [],
   "source": [
    "def even_odd_merge_pair(x: list, y: list):\n",
    "    \"\"\"\n",
    "    For pore pressure versus time ,it acts weirdly:pressure after previous one will move on the contract direction\"\n",
    "    :param x: time step\n",
    "    :param y: pore pressure\n",
    "    :return:X, Y\n",
    "    \"\"\"\n",
    "    odd_res = [(time, pressure) for index, (time, pressure) in enumerate(zip(x, y)) if index % 2 == 1]\n",
    "    # even_res = [(time, pressure) for index, (time, pressure) in enumerate(zip(x, y)) if index % 2 == 0]\n",
    "    odd_X = [item[0] for item in odd_res]\n",
    "    # even_X = [item[0] for item in even_res]\n",
    "    odd_Y = [item[1] for item in odd_res]\n",
    "    # even_Y = [item[1] for item in even_res]\n",
    "    # return odd_X, odd_Y, even_X, even_Y\n",
    "    # return even_X, even_Y\n",
    "    return odd_X, odd_Y"
   ]
  },
  {
   "cell_type": "code",
   "execution_count": null,
   "metadata": {},
   "outputs": [],
   "source": [
    "def plot_comparision_open_size(x, y, tabel_title=\"Comaprision\", tabel_legend=[\"Tabel Legend: Legend\"]):\n",
    "    plt.style.use(\"seaborn-whitegrid\")\n",
    "    fig, ax = plt.subplots()\n",
    "    colors = ['b', 'g', 'r', 'c', 'm', 'y', 'k', 'w']\n",
    "    for index in range(len(x)):\n",
    "        ax.plot(x[index], y[index], colors[index] + \"--\", label=tabel_legend[index])\n",
    "    ax.set_xlabel(\"时间步\")\n",
    "    ax.set_ylabel(\"Crack Opening(mm)\")\n",
    "    ax.set_title(tabel_title)\n",
    "    ax.legend(loc='upper right', shadow=True)\n",
    "    plt.show()"
   ]
  },
  {
   "cell_type": "code",
   "execution_count": null,
   "metadata": {},
   "outputs": [],
   "source": [
    "def plot_comparision_pore_pressure(x, y, tabel_title=\"Comaprision\", tabel_legend=[\"Tabel Legend: Legend\"]):\n",
    "    plt.style.use(\"seaborn-whitegrid\")\n",
    "    fig, ax = plt.subplots()\n",
    "    colors = ['b', 'g', 'r', 'c', 'm', 'y', 'k', 'w']\n",
    "    for index in range(len(x)):\n",
    "        ax.plot(x[index], y[index], colors[index] + \"--\", label=tabel_legend[index])\n",
    "    ax.set_xlabel(\"时间\")\n",
    "    ax.set_ylabel(\"Pore pressure(Pa)\")\n",
    "    ax.set_ylim(bottom=0)\n",
    "    ax.set_title(tabel_title)\n",
    "    ax.legend(loc='upper right', shadow=True)\n",
    "    plt.show()\n"
   ]
  },
  {
   "cell_type": "code",
   "execution_count": null,
   "metadata": {},
   "outputs": [],
   "source": [
    "    X_0 = read_data(r\"D:\\论文产出\\小论文\\py_thesis\\data\\base\\middle_crack_pre_time.csv\")\n",
    "    Y_0 = read_data(r\"D:\\论文产出\\小论文\\py_thesis\\data\\base\\middle_crack_pre_pre.csv\")\n",
    "    X_0, Y_0 = even_odd_merge_pair(X_0, Y_0)\n",
    "    X_1 = read_data(r\"D:\\论文产出\\小论文\\py_thesis\\data\\permeability\\middle_crack_pre_time.csv\")\n",
    "    Y_1 = read_data(r\"D:\\论文产出\\小论文\\py_thesis\\data\\permeability\\middle_crack_pre_pre.csv\")\n",
    "    X_1, Y_1 = even_odd_merge_pair(X_1, Y_1)\n",
    "    X_2 = read_data(r\"D:\\论文产出\\小论文\\py_thesis\\data\\permeability\\middle_crack_pre_time_2.csv\")\n",
    "    Y_2 = read_data(r\"D:\\论文产出\\小论文\\py_thesis\\data\\permeability\\middle_crack_pre_pre_2.csv\")\n",
    "    X_2, Y_2 = even_odd_merge_pair(X_2, Y_2)\n",
    "    X_3 = read_data(r\"D:\\论文产出\\小论文\\py_thesis\\data\\permeability\\middle_crack_pre_time_3.csv\")\n",
    "    Y_3 = read_data(r\"D:\\论文产出\\小论文\\py_thesis\\data\\permeability\\middle_crack_pre_pre_3.csv\")\n",
    "    X_3, Y_3 = even_odd_merge_pair(X_3, Y_3)\n",
    "    X_4 = read_data(r\"D:\\论文产出\\小论文\\py_thesis\\data\\permeability\\middle_crack_pre_time_4.csv\")\n",
    "    Y_4 = read_data(r\"D:\\论文产出\\小论文\\py_thesis\\data\\permeability\\middle_crack_pre_pre_4.csv\")\n",
    "    X_4, Y_4 = even_odd_merge_pair(X_4, Y_4)\n",
    "    # plot_comparision([X_0, X_1, X_2, X_3, X_4], [Y_0, Y_1, Y_2, Y_3, Y_4], tabel_title=\"Effects of permeability on pore pressure\", tabel_legend=[\"Even Permeability:2e-5\", \"Even Permeability:2e-7\", \"Even Permeability:2e-9\", \"Even Permeability:2e-11\", \"Even Permeability:2e-4\"])\n",
    "    plot_comparision_pore_pressure([X_0, X_1, X_4], [Y_0, Y_1, Y_4], tabel_title=\"Effects of permeability on pore pressure\", tabel_legend=[\"Permeability:2e-5\", \"Permeability:2e-7\", \"Permeability:2e-4\"])\n",
    "    plot_comparision_pore_pressure([X_4, X_0, X_1], [Y_4, Y_0, Y_1], tabel_title=\"渗透系数对裂纹孔压影响\", tabel_legend=[\"Permeability:2e-4\", \"Permeability:2e-5\", \"Permeability:2e-7\"])"
   ]
  },
  {
   "cell_type": "code",
   "execution_count": null,
   "metadata": {},
   "outputs": [],
   "source": []
  }
 ],
 "metadata": {
  "kernelspec": {
   "display_name": "Python 3",
   "language": "python",
   "name": "python3"
  },
  "language_info": {
   "codemirror_mode": {
    "name": "ipython",
    "version": 3
   },
   "file_extension": ".py",
   "mimetype": "text/x-python",
   "name": "python",
   "nbconvert_exporter": "python",
   "pygments_lexer": "ipython3",
   "version": "3.6.5"
  }
 },
 "nbformat": 4,
 "nbformat_minor": 2
}
